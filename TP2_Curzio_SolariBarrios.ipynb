{
  "cells": [
    {
      "cell_type": "code",
      "execution_count": 1,
      "metadata": {
        "id": "Yc_QGcPrvhgj"
      },
      "outputs": [],
      "source": [
        "import numpy as np\n",
        "import pandas as pd\n",
        "import matplotlib.pyplot as plt\n",
        "import math\n",
        "from math import e"
      ]
    },
    {
      "cell_type": "code",
      "execution_count": 2,
      "metadata": {},
      "outputs": [],
      "source": [
        "df = pd.read_excel(\"Real estate valuation data set.xlsx\")\n",
        "datos = df.to_numpy()\n",
        "\n",
        "X = datos[:315,[1,2,3,4,5,6]]\n",
        "Y = datos[:315,7]"
      ]
    },
    {
      "cell_type": "code",
      "execution_count": 3,
      "metadata": {
        "id": "Zz81ZoDxvhgm"
      },
      "outputs": [],
      "source": [
        "def forward(W1, W2, b1, b2, x):\n",
        "    capa1 = W1@x + b1\n",
        "\n",
        "    sigmoide_c1 = np.zeros((5,1))\n",
        "    i = 0\n",
        "    m = capa1.shape[0]\n",
        "    n = capa1.shape[1]\n",
        "    \n",
        "    while i < m:\n",
        "        j = 0\n",
        "        while j < n:\n",
        "            valor = capa1[i][j]\n",
        "            sigmoide_c1[i][j] = 1/(1+e**(-valor))\n",
        "            j = j+1\n",
        "        i = i+1\n",
        "\n",
        "    capa2 = W2@sigmoide_c1 + b2\n",
        "    return capa2"
      ]
    },
    {
      "cell_type": "code",
      "execution_count": 4,
      "metadata": {
        "id": "wpp8zX0evhgn"
      },
      "outputs": [],
      "source": [
        "#Inicializacion de pesos\n",
        "W1 = np.random.random((5,6)) #matriz 5x6 valores random\n",
        "b1 = np.random.random((5,1))\n",
        "\n",
        "W2 = np.random.random((1,5))\n",
        "b2 = np.random.random((1,1))"
      ]
    },
    {
      "cell_type": "code",
      "execution_count": 8,
      "metadata": {
        "id": "P-R0FjEzvhgn"
      },
      "outputs": [
        {
          "name": "stdout",
          "output_type": "stream",
          "text": [
            "[2012.9166667   32.          84.87882     10.          24.98298\n",
            "  121.54024  ]\n"
          ]
        }
      ],
      "source": [
        "#Calculo del gradiente numerico\n",
        "def funcion_objetivo(x, y, W1, W2, b1, b2):\n",
        "    loss = 0.5*((forward(W1,W2,b1,b2,x)-y)**2)\n",
        "    return loss\n",
        "\n",
        "def numerical_gradient(x, y, W1, W2, b1, b2, eps):\n",
        "\n",
        "    cincremental_der_W1 = funcion_objetivo(x, y, W1+eps, W2, b1, b2)\n",
        "    cincremental_izq_W1 = funcion_objetivo(x, y, W1-eps, W2, b1, b2)\n",
        "    derivada_W1 = (cincremental_der_W1-cincremental_izq_W1)/(2*eps)\n",
        "\n",
        "    cincremental_der_W2 = funcion_objetivo(x, y, W1, W2+eps, b1, b2)\n",
        "    cincremental_izq_W2 = funcion_objetivo(x, y, W1, W2-eps, b1, b2)\n",
        "    derivada_W2 = (cincremental_der_W2-cincremental_izq_W2)/(2*eps)\n",
        "\n",
        "    cicremental_der_b1 = funcion_objetivo(x, y, W1, W2, b1 + eps, b2)\n",
        "    cicremental_izq_b1 = funcion_objetivo(x, y, W1, W2, b1 - eps, b2)\n",
        "    derivada_b1 = (cicremental_der_b1 - cicremental_izq_b1)/(2*eps)\n",
        "\n",
        "    cicremental_der_b2 = funcion_objetivo(x, y, W1, W2, b1, b2 + eps)\n",
        "    cicremental_izq_b2 = funcion_objetivo(x, y, W1, W2, b1, b2 + eps)\n",
        "    derivada_b2 = (cicremental_der_b2 - cicremental_izq_b2)/(2*eps)\n",
        "\n",
        "    gradiente = np.array([[derivada_W1],[derivada_W2],[derivada_b1],[derivada_b2]])\n",
        "    return gradiente"
      ]
    },
    {
      "cell_type": "code",
      "execution_count": 9,
      "metadata": {
        "id": "rJRtIYxMvhgo"
      },
      "outputs": [],
      "source": [
        "#funcion fit y loop de entrenamiento\n",
        "def fit(x, y, learning_rate=0.001, epochs=1000):\n",
        "    eps = 1e-3\n",
        "    loss_accum = [x]\n",
        "    j = 0\n",
        "    \n",
        "    for i in range(epochs):\n",
        "        aux_loss = 0\n",
        "        for j in range(X.shape[0]):\n",
        "            x_aux = np.array([[X[j,:]]])\n",
        "            objective_value = funcion_objetivo(x_aux, y[j], W1, W2, b1, b2)\n",
        "            aux_loss = aux_loss + objective_value\n",
        "\n",
        "            gradiente = numerical_gradient(x_aux, y[j], W1, W2, b1, b2, eps)\n",
        "            W1 = W1 - learning_rate*gradiente[0]\n",
        "            W2 = W2 - learning_rate*gradiente[1]\n",
        "            b1 = b1 - learning_rate*gradiente[2]\n",
        "            b2 = b2 - learning_rate*gradiente[3]\n",
        "        \n",
        "        loss_accum.append(aux_loss/X.shape[0])\n",
        "\n",
        "    theta = [W1, W2, b1, b2]\n",
        "    return theta, loss_accum"
      ]
    },
    {
      "cell_type": "code",
      "execution_count": null,
      "metadata": {
        "id": "IS4sKd_Hvhgo"
      },
      "outputs": [],
      "source": [
        "def predict(x):\n",
        "        y = forward(x, y, W1, W2, b1, b2)\n",
        "        return y"
      ]
    }
  ],
  "metadata": {
    "colab": {
      "provenance": []
    },
    "kernelspec": {
      "display_name": "metodos",
      "language": "python",
      "name": "python3"
    },
    "language_info": {
      "codemirror_mode": {
        "name": "ipython",
        "version": 3
      },
      "file_extension": ".py",
      "mimetype": "text/x-python",
      "name": "python",
      "nbconvert_exporter": "python",
      "pygments_lexer": "ipython3",
      "version": "3.10.9"
    },
    "orig_nbformat": 4
  },
  "nbformat": 4,
  "nbformat_minor": 0
}

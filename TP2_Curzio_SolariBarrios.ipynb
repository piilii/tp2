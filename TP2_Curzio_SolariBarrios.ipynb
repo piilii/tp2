{
  "cells": [
    {
      "cell_type": "code",
      "execution_count": 11,
      "metadata": {
        "id": "Yc_QGcPrvhgj"
      },
      "outputs": [],
      "source": [
        "import numpy as np\n",
        "import pandas as pd\n",
        "import matplotlib.pyplot as plt\n",
        "import math\n",
        "from math import e"
      ]
    },
    {
      "cell_type": "code",
      "execution_count": 74,
      "metadata": {
        "id": "Zz81ZoDxvhgm"
      },
      "outputs": [],
      "source": [
        "def forward(W1, W2, b1, b2, x):\n",
        "    xt = x.transpose()\n",
        "    capa1 = W1@xt + b1\n",
        "    sigmoide_c1 = np.zeros((5,1))\n",
        "    \n",
        "    m = capa1.shape[0]\n",
        "    \n",
        "    i = 0\n",
        "    while i < m:\n",
        "        valor = capa1[i][0]\n",
        "        sigmoide_c1[i][0] = 1/(1+e**(-valor))\n",
        "        i = i+1\n",
        "\n",
        "    capa2 = W2@sigmoide_c1 + b2\n",
        "    return capa2"
      ]
    },
    {
      "cell_type": "code",
      "execution_count": 26,
      "metadata": {
        "id": "wpp8zX0evhgn"
      },
      "outputs": [],
      "source": [
        "#Inicializacion de pesos\n",
        "W1 = np.random.random((5,6)) #matriz 5x6 valores random\n",
        "b1 = np.random.random((5,1))\n",
        "\n",
        "W2 = np.random.random((1,5))\n",
        "b2 = np.random.random((1,1))"
      ]
    },
    {
      "cell_type": "code",
      "execution_count": 82,
      "metadata": {
        "id": "P-R0FjEzvhgn"
      },
      "outputs": [],
      "source": [
        "#Calculo del gradiente numerico\n",
        "def funcion_objetivo(x, y, W1, W2, b1, b2):\n",
        "    loss = 0.5*((forward(W1,W2,b1,b2,x)-y)**2)\n",
        "    return loss\n",
        "\n",
        "def numerical_gradient(x, y, W1, W2, b1, b2, eps):\n",
        "\n",
        "    cincremental_der_W1 = funcion_objetivo(x, y, W1+eps, W2, b1, b2)\n",
        "    cincremental_izq_W1 = funcion_objetivo(x, y, W1-eps, W2, b1, b2)\n",
        "    derivada_W1 = (cincremental_der_W1-cincremental_izq_W1)/(2*eps)\n",
        "\n",
        "    cincremental_der_W2 = funcion_objetivo(x, y, W1, W2+eps, b1, b2)\n",
        "    cincremental_izq_W2 = funcion_objetivo(x, y, W1, W2-eps, b1, b2)\n",
        "    derivada_W2 = (cincremental_der_W2-cincremental_izq_W2)/(2*eps)\n",
        "\n",
        "    cicremental_der_b1 = funcion_objetivo(x, y, W1, W2, b1 + eps, b2)\n",
        "    cicremental_izq_b1 = funcion_objetivo(x, y, W1, W2, b1 - eps, b2)\n",
        "    derivada_b1 = (cicremental_der_b1 - cicremental_izq_b1)/(2*eps)\n",
        "\n",
        "    cicremental_der_b2 = funcion_objetivo(x, y, W1, W2, b1, b2 + eps)\n",
        "    cicremental_izq_b2 = funcion_objetivo(x, y, W1, W2, b1, b2 + eps)\n",
        "    derivada_b2 = (cicremental_der_b2 - cicremental_izq_b2)/(2*eps)\n",
        "\n",
        "    gradiente = np.zeros((4,1))\n",
        "    gradiente[0][0] = derivada_W1\n",
        "    gradiente[1][0] = derivada_W2\n",
        "    gradiente[2][0] = derivada_b1\n",
        "    gradiente[3][0] = derivada_b2\n",
        "    \n",
        "    return gradiente"
      ]
    },
    {
      "cell_type": "code",
      "execution_count": 87,
      "metadata": {
        "id": "rJRtIYxMvhgo"
      },
      "outputs": [],
      "source": [
        "#funcion fit y loop de entrenamiento\n",
        "def fit(x, y, W1, W2, b1, b2, learning_rate, epochs):\n",
        "    eps = 1e-3\n",
        "    loss_accum = []\n",
        "    j = 0\n",
        "    for i in range(epochs):\n",
        "        aux_loss = 0\n",
        "        for j in range(x.shape[0]):\n",
        "            x_aux = np.array([x[j,:]])\n",
        "            objective_value = funcion_objetivo(x_aux, y[j], W1, W2, b1, b2)\n",
        "            aux_loss = aux_loss + objective_value\n",
        "\n",
        "            gradiente = numerical_gradient(x_aux, y[j], W1, W2, b1, b2, eps)\n",
        "            W1 = W1 - learning_rate*gradiente[0][0]\n",
        "            W2 = W2 - learning_rate*gradiente[1][0]\n",
        "            b1 = b1 - learning_rate*gradiente[2][0]\n",
        "            b2 = b2 - learning_rate*gradiente[3][0]\n",
        "        \n",
        "        loss_accum.append(aux_loss/x.shape[0])\n",
        "\n",
        "    theta = [W1, W2, b1, b2]\n",
        "    return theta, loss_accum"
      ]
    },
    {
      "cell_type": "code",
      "execution_count": 46,
      "metadata": {
        "id": "IS4sKd_Hvhgo"
      },
      "outputs": [],
      "source": [
        "def predict(x):\n",
        "        y = forward(x, y, W1, W2, b1, b2)\n",
        "        return y"
      ]
    },
    {
      "cell_type": "code",
      "execution_count": 38,
      "metadata": {},
      "outputs": [],
      "source": [
        "df = pd.read_excel(\"Real estate valuation data set.xlsx\")\n",
        "datos = df.to_numpy()\n",
        "\n",
        "X = datos[:315,[1,2,3,4,5,6]]\n",
        "Y = datos[:315,7]"
      ]
    },
    {
      "cell_type": "code",
      "execution_count": 31,
      "metadata": {},
      "outputs": [],
      "source": [
        "def getmedias_x(x):\n",
        "    sumas = np.zeros((1,x.shape[1]))\n",
        "    for i in range(x.shape[0]):\n",
        "        sumas = sumas + x[i]\n",
        "\n",
        "    medias = sumas/x.shape[0]\n",
        "    return medias\n",
        "\n",
        "def normalizar(x):\n",
        "    medias = getmedias_x(x)\n",
        "    for i in range(x.shape[0]):\n",
        "        x[i] = x[i] - medias\n",
        "    return x"
      ]
    },
    {
      "cell_type": "code",
      "execution_count": 88,
      "metadata": {},
      "outputs": [
        {
          "name": "stdout",
          "output_type": "stream",
          "text": [
            "([array([[0.10783198, 0.39371193, 0.98323806, 0.28458521, 0.69191218,\n",
            "        0.83854963],\n",
            "       [0.82884287, 0.34957138, 0.80811594, 0.4025935 , 0.11400658,\n",
            "        0.49024027],\n",
            "       [0.284961  , 0.38026441, 0.84267963, 0.04683202, 0.93442095,\n",
            "        0.95343125],\n",
            "       [0.54718176, 0.27864468, 0.44507442, 0.37039702, 0.98819703,\n",
            "        0.72333037],\n",
            "       [0.38478677, 0.86041817, 0.28059534, 0.41693429, 0.95262697,\n",
            "        0.13263794]]), array([[7.56488548, 7.927608  , 7.72881357, 7.57266733, 7.22262388]]), array([[0.90662213],\n",
            "       [0.85007917],\n",
            "       [0.27364381],\n",
            "       [0.86417402],\n",
            "       [0.10929136]]), array([[0.22565031]])], [array([[141.05524794]]), array([[98.88092046]]), array([[98.88025349]]), array([[98.88025326]]), array([[98.88025326]]), array([[98.88025326]]), array([[98.88025326]]), array([[98.88025326]]), array([[98.88025326]]), array([[98.88025326]]), array([[98.88025326]]), array([[98.88025326]]), array([[98.88025326]]), array([[98.88025326]]), array([[98.88025326]]), array([[98.88025326]]), array([[98.88025326]]), array([[98.88025326]]), array([[98.88025326]]), array([[98.88025326]]), array([[98.88025326]]), array([[98.88025326]]), array([[98.88025326]]), array([[98.88025326]]), array([[98.88025326]]), array([[98.88025326]]), array([[98.88025326]]), array([[98.88025326]]), array([[98.88025326]]), array([[98.88025326]]), array([[98.88025326]]), array([[98.88025326]]), array([[98.88025326]]), array([[98.88025326]]), array([[98.88025326]]), array([[98.88025326]]), array([[98.88025326]]), array([[98.88025326]]), array([[98.88025326]]), array([[98.88025326]]), array([[98.88025326]]), array([[98.88025326]]), array([[98.88025326]]), array([[98.88025326]]), array([[98.88025326]]), array([[98.88025326]]), array([[98.88025326]]), array([[98.88025326]]), array([[98.88025326]]), array([[98.88025326]]), array([[98.88025326]]), array([[98.88025326]]), array([[98.88025326]]), array([[98.88025326]]), array([[98.88025326]]), array([[98.88025326]]), array([[98.88025326]]), array([[98.88025326]]), array([[98.88025326]]), array([[98.88025326]]), array([[98.88025326]]), array([[98.88025326]]), array([[98.88025326]]), array([[98.88025326]]), array([[98.88025326]]), array([[98.88025326]]), array([[98.88025326]]), array([[98.88025326]]), array([[98.88025326]]), array([[98.88025326]]), array([[98.88025326]]), array([[98.88025326]]), array([[98.88025326]]), array([[98.88025326]]), array([[98.88025326]]), array([[98.88025326]]), array([[98.88025326]]), array([[98.88025326]]), array([[98.88025326]]), array([[98.88025326]]), array([[98.88025326]]), array([[98.88025326]]), array([[98.88025326]]), array([[98.88025326]]), array([[98.88025326]]), array([[98.88025326]]), array([[98.88025326]]), array([[98.88025326]]), array([[98.88025326]]), array([[98.88025326]]), array([[98.88025326]]), array([[98.88025326]]), array([[98.88025326]]), array([[98.88025326]]), array([[98.88025326]]), array([[98.88025326]]), array([[98.88025326]]), array([[98.88025326]]), array([[98.88025326]]), array([[98.88025326]])])\n"
          ]
        }
      ],
      "source": [
        "print(fit(X, Y, W1, W2, b1, b2, 0.001, 100))"
      ]
    }
  ],
  "metadata": {
    "colab": {
      "provenance": []
    },
    "kernelspec": {
      "display_name": "metodos",
      "language": "python",
      "name": "python3"
    },
    "language_info": {
      "codemirror_mode": {
        "name": "ipython",
        "version": 3
      },
      "file_extension": ".py",
      "mimetype": "text/x-python",
      "name": "python",
      "nbconvert_exporter": "python",
      "pygments_lexer": "ipython3",
      "version": "3.10.9"
    },
    "orig_nbformat": 4
  },
  "nbformat": 4,
  "nbformat_minor": 0
}

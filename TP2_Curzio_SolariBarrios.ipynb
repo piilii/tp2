{
  "cells": [
    {
      "cell_type": "code",
      "execution_count": 90,
      "metadata": {
        "id": "Yc_QGcPrvhgj"
      },
      "outputs": [],
      "source": [
        "import numpy as np\n",
        "import pandas as pd\n",
        "import matplotlib.pyplot as plt\n",
        "import math\n",
        "from math import e"
      ]
    },
    {
      "cell_type": "code",
      "execution_count": 91,
      "metadata": {
        "id": "Zz81ZoDxvhgm"
      },
      "outputs": [],
      "source": [
        "def forward(W1, W2, b1, b2, x):\n",
        "    xt = x.transpose()\n",
        "    capa1 = W1@xt + b1\n",
        "    sigmoide_c1 = np.zeros((5,1))\n",
        "    \n",
        "    m = capa1.shape[0]\n",
        "    \n",
        "    i = 0\n",
        "    while i < m:\n",
        "        valor = capa1[i][0]\n",
        "        sigmoide_c1[i][0] = 1/(1+e**(-valor))\n",
        "        i = i+1\n",
        "\n",
        "    capa2 = W2@sigmoide_c1 + b2\n",
        "    return capa2"
      ]
    },
    {
      "cell_type": "code",
      "execution_count": 112,
      "metadata": {
        "id": "wpp8zX0evhgn"
      },
      "outputs": [],
      "source": [
        "#Inicializacion de pesos\n",
        "rng = np.random.default_rng(seed = 42)\n",
        "\n",
        "W1 = np.random.random((5,6)) #matriz 5x6 valores random\n",
        "b1 = np.random.random((5,1))\n",
        "\n",
        "W2 = np.random.random((1,5))\n",
        "b2 = np.random.random((1,1))"
      ]
    },
    {
      "cell_type": "code",
      "execution_count": 93,
      "metadata": {
        "id": "P-R0FjEzvhgn"
      },
      "outputs": [],
      "source": [
        "#Calculo del gradiente numerico\n",
        "def funcion_objetivo(x, y, W1, W2, b1, b2):\n",
        "    loss = 0.5*((forward(W1,W2,b1,b2,x)-y)**2)\n",
        "    return loss\n",
        "\n",
        "def numerical_gradient(x, y, W1, W2, b1, b2, eps):\n",
        "\n",
        "    cincremental_der_W1 = funcion_objetivo(x, y, W1+eps, W2, b1, b2)\n",
        "    cincremental_izq_W1 = funcion_objetivo(x, y, W1-eps, W2, b1, b2)\n",
        "    derivada_W1 = (cincremental_der_W1-cincremental_izq_W1)/(2*eps)\n",
        "\n",
        "    cincremental_der_W2 = funcion_objetivo(x, y, W1, W2+eps, b1, b2)\n",
        "    cincremental_izq_W2 = funcion_objetivo(x, y, W1, W2-eps, b1, b2)\n",
        "    derivada_W2 = (cincremental_der_W2-cincremental_izq_W2)/(2*eps)\n",
        "\n",
        "    cicremental_der_b1 = funcion_objetivo(x, y, W1, W2, b1 + eps, b2)\n",
        "    cicremental_izq_b1 = funcion_objetivo(x, y, W1, W2, b1 - eps, b2)\n",
        "    derivada_b1 = (cicremental_der_b1 - cicremental_izq_b1)/(2*eps)\n",
        "\n",
        "    cicremental_der_b2 = funcion_objetivo(x, y, W1, W2, b1, b2 + eps)\n",
        "    cicremental_izq_b2 = funcion_objetivo(x, y, W1, W2, b1, b2 + eps)\n",
        "    derivada_b2 = (cicremental_der_b2 - cicremental_izq_b2)/(2*eps)\n",
        "\n",
        "    gradiente = np.zeros((4,1))\n",
        "    gradiente[0][0] = derivada_W1\n",
        "    gradiente[1][0] = derivada_W2\n",
        "    gradiente[2][0] = derivada_b1\n",
        "    gradiente[3][0] = derivada_b2\n",
        "    \n",
        "    return gradiente"
      ]
    },
    {
      "cell_type": "code",
      "execution_count": 108,
      "metadata": {
        "id": "rJRtIYxMvhgo"
      },
      "outputs": [],
      "source": [
        "#funcion fit y loop de entrenamiento\n",
        "def fit(x, y, W1, W2, b1, b2, learning_rate, epochs):\n",
        "    eps = 1e-3\n",
        "    loss_accum = []\n",
        "    j = 0\n",
        "    for i in range(epochs):\n",
        "        aux_loss = 0\n",
        "        for j in range(x.shape[0]):\n",
        "            x_aux = np.array([x[j,:]])\n",
        "            objective_value = funcion_objetivo(x_aux, y[j], W1, W2, b1, b2)\n",
        "            aux_loss = aux_loss + objective_value\n",
        "\n",
        "            gradiente = numerical_gradient(x_aux, y[j], W1, W2, b1, b2, eps)\n",
        "            W1 = W1 - learning_rate*gradiente[0][0]\n",
        "            W2 = W2 - learning_rate*gradiente[1][0]\n",
        "            b1 = b1 - learning_rate*gradiente[2][0]\n",
        "            b2 = b2 - learning_rate*gradiente[3][0]\n",
        "        \n",
        "        loss_accum.append(aux_loss[0][0]/x.shape[0])\n",
        "\n",
        "    theta = [W1[0], W2[0], b1[0], b2[0]]\n",
        "    return theta, loss_accum"
      ]
    },
    {
      "cell_type": "code",
      "execution_count": 95,
      "metadata": {
        "id": "IS4sKd_Hvhgo"
      },
      "outputs": [],
      "source": [
        "def predict(x):\n",
        "        y = forward(x, y, W1, W2, b1, b2)\n",
        "        return y"
      ]
    },
    {
      "cell_type": "code",
      "execution_count": 96,
      "metadata": {},
      "outputs": [],
      "source": [
        "df = pd.read_excel(\"Real estate valuation data set.xlsx\")\n",
        "datos = df.to_numpy()\n",
        "\n",
        "X = datos[:315,[1,2,3,4,5,6]]\n",
        "Y = datos[:315,7]"
      ]
    },
    {
      "cell_type": "code",
      "execution_count": 105,
      "metadata": {},
      "outputs": [],
      "source": [
        "def getmedias_x(x):\n",
        "    sumas = np.zeros((1,x.shape[1]))\n",
        "    for i in range(x.shape[0]):\n",
        "        sumas = sumas + x[i]\n",
        "\n",
        "    medias = sumas/x.shape[0]\n",
        "    return medias\n",
        "\n",
        "def normalizar_x(x):\n",
        "    medias = getmedias_x(x)\n",
        "    for i in range(x.shape[0]):\n",
        "        x[i] = x[i] - medias\n",
        "    return x\n",
        "\n",
        "def getmedia_y(y):\n",
        "    suma = 0\n",
        "    for i in range(y.shape[0]):\n",
        "        suma = suma + y[i]\n",
        "\n",
        "    media = suma/y.shape[0]\n",
        "    return media\n",
        "\n",
        "def normalizar_y(y):\n",
        "    media = getmedia_y(y)\n",
        "    for i in range(y.shape[0]):\n",
        "        y[i] = y[i] - media\n",
        "    return y"
      ]
    },
    {
      "cell_type": "code",
      "execution_count": 113,
      "metadata": {},
      "outputs": [
        {
          "name": "stderr",
          "output_type": "stream",
          "text": [
            "C:\\Users\\pilar\\AppData\\Local\\Temp\\ipykernel_6728\\4182425558.py:11: RuntimeWarning: overflow encountered in double_scalars\n",
            "  sigmoide_c1[i][0] = 1/(1+e**(-valor))\n"
          ]
        },
        {
          "name": "stdout",
          "output_type": "stream",
          "text": [
            "[74.77608959008549, 67.25468545486866, 67.17808198962675, 67.17530129578954, 67.17510111551212, 67.17508533007806, 67.1750840757, 67.17508397596055, 67.17508396802957, 67.17508396739892, 67.17508396734881, 67.17508396734479, 67.1750839673445, 67.17508396734445, 67.17508396734448, 67.17508396734443, 67.17508396734448, 67.17508396734443, 67.17508396734448, 67.17508396734443, 67.17508396734448, 67.17508396734443, 67.17508396734448, 67.17508396734443, 67.17508396734448, 67.17508396734443, 67.17508396734448, 67.17508396734443, 67.17508396734448, 67.17508396734443, 67.17508396734448, 67.17508396734443, 67.17508396734448, 67.17508396734443, 67.17508396734448, 67.17508396734443, 67.17508396734448, 67.17508396734443, 67.17508396734448, 67.17508396734443, 67.17508396734448, 67.17508396734443, 67.17508396734448, 67.17508396734443, 67.17508396734448, 67.17508396734443, 67.17508396734448, 67.17508396734443, 67.17508396734448, 67.17508396734443, 67.17508396734448, 67.17508396734443, 67.17508396734448, 67.17508396734443, 67.17508396734448, 67.17508396734443, 67.17508396734448, 67.17508396734443, 67.17508396734448, 67.17508396734443, 67.17508396734448, 67.17508396734443, 67.17508396734448, 67.17508396734443, 67.17508396734448, 67.17508396734443, 67.17508396734448, 67.17508396734443, 67.17508396734448, 67.17508396734443, 67.17508396734448, 67.17508396734443, 67.17508396734448, 67.17508396734443, 67.17508396734448, 67.17508396734443, 67.17508396734448, 67.17508396734443, 67.17508396734448, 67.17508396734443, 67.17508396734448, 67.17508396734443, 67.17508396734448, 67.17508396734443, 67.17508396734448, 67.17508396734443, 67.17508396734448, 67.17508396734443, 67.17508396734448, 67.17508396734443, 67.17508396734448, 67.17508396734443, 67.17508396734448, 67.17508396734443, 67.17508396734448, 67.17508396734443, 67.17508396734448, 67.17508396734443, 67.17508396734448, 67.17508396734443, 67.17508396734448, 67.17508396734443, 67.17508396734448, 67.17508396734443, 67.17508396734448, 67.17508396734443, 67.17508396734448, 67.17508396734443, 67.17508396734448, 67.17508396734443, 67.17508396734448, 67.17508396734443, 67.17508396734448, 67.17508396734443, 67.17508396734448, 67.17508396734443, 67.17508396734448, 67.17508396734443, 67.17508396734448, 67.17508396734443, 67.17508396734448, 67.17508396734443, 67.17508396734448, 67.17508396734443, 67.17508396734448, 67.17508396734443, 67.17508396734448, 67.17508396734443, 67.17508396734448, 67.17508396734443, 67.17508396734448, 67.17508396734443, 67.17508396734448, 67.17508396734443, 67.17508396734448, 67.17508396734443, 67.17508396734448, 67.17508396734443, 67.17508396734448, 67.17508396734443, 67.17508396734448, 67.17508396734443, 67.17508396734448, 67.17508396734443, 67.17508396734448, 67.17508396734443, 67.17508396734448, 67.17508396734443, 67.17508396734448, 67.17508396734443, 67.17508396734448, 67.17508396734443, 67.17508396734448, 67.17508396734443, 67.17508396734448, 67.17508396734443, 67.17508396734448, 67.17508396734443, 67.17508396734448, 67.17508396734443, 67.17508396734448, 67.17508396734443, 67.17508396734448, 67.17508396734443, 67.17508396734448, 67.17508396734443, 67.17508396734448, 67.17508396734443, 67.17508396734448, 67.17508396734443, 67.17508396734448, 67.17508396734443, 67.17508396734448, 67.17508396734443, 67.17508396734448, 67.17508396734443, 67.17508396734448, 67.17508396734443, 67.17508396734448, 67.17508396734443, 67.17508396734448, 67.17508396734443, 67.17508396734448, 67.17508396734443, 67.17508396734448, 67.17508396734443, 67.17508396734448, 67.17508396734443, 67.17508396734448, 67.17508396734443, 67.17508396734448, 67.17508396734443, 67.17508396734448, 67.17508396734443, 67.17508396734448, 67.17508396734443, 67.17508396734448, 67.17508396734443, 67.17508396734448, 67.17508396734443]\n"
          ]
        }
      ],
      "source": [
        "x_norm = normalizar_x(X)\n",
        "y_norm = normalizar_y(Y)\n",
        "print(fit(X, Y, W1, W2, b1, b2, 0.001, 200)[1])"
      ]
    }
  ],
  "metadata": {
    "colab": {
      "provenance": []
    },
    "kernelspec": {
      "display_name": "metodos",
      "language": "python",
      "name": "python3"
    },
    "language_info": {
      "codemirror_mode": {
        "name": "ipython",
        "version": 3
      },
      "file_extension": ".py",
      "mimetype": "text/x-python",
      "name": "python",
      "nbconvert_exporter": "python",
      "pygments_lexer": "ipython3",
      "version": "3.10.9"
    },
    "orig_nbformat": 4
  },
  "nbformat": 4,
  "nbformat_minor": 0
}
